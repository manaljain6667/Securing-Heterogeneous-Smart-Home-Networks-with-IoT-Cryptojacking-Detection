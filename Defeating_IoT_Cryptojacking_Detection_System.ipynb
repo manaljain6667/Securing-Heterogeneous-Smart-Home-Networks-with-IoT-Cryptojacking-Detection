{
 "cells": [
  {
   "cell_type": "code",
   "execution_count": 1,
   "metadata": {
    "id": "MVvWb_b-nxVS"
   },
   "outputs": [],
   "source": [
    "# from google.colab import drive\n",
    "# drive.mount('/content/drive')"
   ]
  },
  {
   "cell_type": "code",
   "execution_count": 8,
   "metadata": {
    "colab": {
     "base_uri": "https://localhost:8080/"
    },
    "id": "APRu5szfCSBz",
    "outputId": "bf8b436d-b05f-42d5-b21d-aa314f492884"
   },
   "outputs": [
    {
     "name": "stdout",
     "output_type": "stream",
     "text": [
      "Mounted at /content/drive\n"
     ]
    }
   ],
   "source": [
    "from google.colab import drive\n",
    "drive.mount('/content/drive')"
   ]
  },
  {
   "cell_type": "code",
   "execution_count": null,
   "metadata": {
    "id": "PJu2I_fNpJD1"
   },
   "outputs": [],
   "source": [
    "# !pip install tsfresh\n",
    "# !pip install scapy"
   ]
  },
  {
   "cell_type": "code",
   "execution_count": null,
   "metadata": {
    "id": "cFCCtmEvCXzq"
   },
   "outputs": [],
   "source": [
    "pip install tsfresh"
   ]
  },
  {
   "cell_type": "code",
   "execution_count": 7,
   "metadata": {
    "colab": {
     "base_uri": "https://localhost:8080/"
    },
    "id": "k1G_Soc-CxA2",
    "outputId": "f01b17fa-5c0e-409a-dcea-1e68316f6e69"
   },
   "outputs": [
    {
     "name": "stdout",
     "output_type": "stream",
     "text": [
      "Looking in indexes: https://pypi.org/simple, https://us-python.pkg.dev/colab-wheels/public/simple/\n",
      "Collecting scapy\n",
      "  Downloading scapy-2.5.0.tar.gz (1.3 MB)\n",
      "\u001b[2K     \u001b[90m━━━━━━━━━━━━━━━━━━━━━━━━━━━━━━━━━━━━━━━━\u001b[0m \u001b[32m1.3/1.3 MB\u001b[0m \u001b[31m55.8 MB/s\u001b[0m eta \u001b[36m0:00:00\u001b[0m\n",
      "\u001b[?25h  Preparing metadata (setup.py) ... \u001b[?25l\u001b[?25hdone\n",
      "Building wheels for collected packages: scapy\n",
      "  Building wheel for scapy (setup.py) ... \u001b[?25l\u001b[?25hdone\n",
      "  Created wheel for scapy: filename=scapy-2.5.0-py2.py3-none-any.whl size=1444345 sha256=30666e07bdfedc3efbb069fcd6f8d3511da74d2754106fd34800822d26fd7f7f\n",
      "  Stored in directory: /root/.cache/pip/wheels/dd/1b/47/d46b1a87e339be501612cf4cd1bf57742e534f9c9aac7b00d6\n",
      "Successfully built scapy\n",
      "Installing collected packages: scapy\n",
      "Successfully installed scapy-2.5.0\n"
     ]
    }
   ],
   "source": [
    "pip install scapy"
   ]
  },
  {
   "cell_type": "code",
   "execution_count": 22,
   "metadata": {
    "id": "mZ1222PxocrK"
   },
   "outputs": [],
   "source": [
    "import pandas as pd\n",
    "import tsfresh\n",
    "import os\n",
    "import json\n",
    "import scapy\n",
    "import numpy as np\n",
    "import warnings\n",
    "from timeit import default_timer as timer\n",
    "from scapy.all import *\n",
    "\n",
    "import sys\n",
    "from pathlib import Path\n",
    "import seaborn as sns\n",
    "warnings.filterwarnings(\"ignore\") \n",
    "import pandas as pd\n",
    "import tsfresh\n",
    "import os\n",
    "import json\n",
    "import scapy\n",
    "import numpy as np\n",
    "import warnings\n",
    "from timeit import default_timer as timer\n",
    "from scapy.all import *\n",
    "warnings.filterwarnings(\"ignore\")\n",
    "from tsfresh import extract_features, select_features\n",
    "from tsfresh.utilities.dataframe_functions import impute\n",
    "from tsfresh import extract_features\n",
    "from tsfresh.feature_selection.relevance import calculate_relevance_table\n",
    "from sklearn import neighbors, metrics\n",
    "from sklearn.preprocessing import LabelEncoder\n",
    "from sklearn.linear_model import LogisticRegression\n",
    "from sklearn.neighbors import KNeighborsClassifier\n",
    "from sklearn.svm import SVC\n",
    "from sklearn.ensemble import RandomForestClassifier\n",
    "from sklearn.naive_bayes import GaussianNB\n",
    "from xgboost import XGBClassifier\n",
    "from sklearn import model_selection\n",
    "from sklearn.utils import class_weight\n",
    "from sklearn.metrics import classification_report\n",
    "from sklearn.metrics import confusion_matrix\n",
    "from sklearn.model_selection import train_test_split\n",
    "import seaborn as sns\n",
    "import matplotlib.pyplot as plt"
   ]
  },
  {
   "cell_type": "code",
   "execution_count": 18,
   "metadata": {
    "id": "oiKP55kEcKlw"
   },
   "outputs": [],
   "source": [
    "def dataframe_from_csv(target):\n",
    "    return pd.read_csv(target).rename(columns=lambda x: x.strip())\n",
    "\n",
    "def dataframe_from_csvs(targets):\n",
    "    return pd.concat([dataframe_from_csv(x) for x in targets])\n",
    "df_results = pd.DataFrame()"
   ]
  },
  {
   "cell_type": "code",
   "execution_count": 13,
   "metadata": {
    "id": "NuudVyVoo7Rr"
   },
   "outputs": [],
   "source": [
    "def run_process(a,b,x, changed_mal):\n",
    "    \n",
    "    df_malicious = a.copy()\n",
    "    df_benign    = b.copy()\n",
    "    \n",
    "    df_mal_web_mine = changed_mal.copy()\n",
    "\n",
    "    from tsfresh import extract_features, select_features\n",
    "    from tsfresh.utilities.dataframe_functions import impute\n",
    "    from tsfresh import extract_features\n",
    "    from tsfresh.feature_selection.relevance import calculate_relevance_table\n",
    "\n",
    "    df_malicious.reset_index(drop=True, inplace=True) #reset index\n",
    "    df_malicious['id']= np.floor(df_malicious.index.array/10)\n",
    "    df_benign.reset_index(drop=True, inplace=True) #reset index\n",
    "    df_benign['id']= np.floor(df_benign.index.array/10)\n",
    "\n",
    "    df_mal_web_mine.reset_index(drop=True, inplace=True) #reset index\n",
    "    df_mal_web_mine['id']= np.floor(df_mal_web_mine.index.array/10)\n",
    "    \n",
    "    tf1=tsfresh.extract_features(df_malicious,impute_function=impute, column_kind='Is_malicious',\n",
    "                                 column_id='id',column_sort=\"Time\",column_value = \"Length\")\n",
    "    tf1['class']= 1\n",
    "\n",
    "    tf2=tsfresh.extract_features(df_benign,impute_function=impute, column_kind='Is_malicious',\n",
    "                                 column_id='id',column_sort=\"Time\",column_value = \"Length\")\n",
    "    tf2['class']= 0\n",
    "\n",
    "    tf3=tsfresh.extract_features(df_mal_web_mine,impute_function=impute, column_kind='Is_malicious',\n",
    "                                 column_id='id',column_sort=\"Time\",column_value = \"Length\")\n",
    "    tf3['class']= 1\n",
    "\n",
    "    tf2.columns = tf1.columns\n",
    "    tf3.columns = tf1.columns\n",
    "\n",
    "    features=pd.concat([tf1,tf2])\n",
    "    features_changed_mal = pd.concat([tf3,tf2])\n",
    "\n",
    "    features2 = features.copy()\n",
    "    features_changed_mal2 = features_changed_mal.copy()\n",
    "\n",
    "    features2.reset_index(drop=True, inplace=True)\n",
    "    features_changed_mal2.reset_index(drop=True, inplace=True)\n",
    "\n",
    "    y = pd.Series(data = features2['class'], index=features2.index)\n",
    "    y_changed_mal = pd.Series(data = features_changed_mal2['class'], index=features_changed_mal2.index)\n",
    "\n",
    "    from tsfresh.examples import load_robot_execution_failures\n",
    "    from tsfresh import extract_features, select_features\n",
    "    from tsfresh.feature_selection.relevance import calculate_relevance_table\n",
    "\n",
    "    relevance_table = calculate_relevance_table(features2, y)\n",
    "    relevance_table = relevance_table[relevance_table.relevant]\n",
    "    relevance_table.sort_values(\"p_value\", inplace=True)\n",
    "    print(\"relevance_table \" , relevance_table.shape)\n",
    "    relevance_table_changed_mal = calculate_relevance_table(features_changed_mal2, y_changed_mal)\n",
    "    relevance_table_changed_mal = relevance_table_changed_mal[relevance_table_changed_mal.relevant]\n",
    "    relevance_table_changed_mal.sort_values(\"p_value\", inplace=True)\n",
    "    print(\"relevance_table_changed_mal \" , relevance_table_changed_mal.shape)\n",
    "\n",
    "    best_features = pd.DataFrame(relevance_table[relevance_table['p_value'] <= 0.05])\n",
    "    # print(\"best_features \" , best_features.shape)\n",
    "    # print(\"best_features features\" , best_features.feature)\n",
    "\n",
    "    mal_pktPlus_features = pd.DataFrame(relevance_table_changed_mal)\n",
    "\n",
    "    if (len(mal_pktPlus_features) >= len(best_features)):\n",
    "      mal_pktPlus_features = mal_pktPlus_features[:len(best_features)]\n",
    "    else:\n",
    "      best_features = best_features[:len(mal_pktPlus_features)]\n",
    "      # mal_pktPlus_features = pd.concat([mal_pktPlus_features, best_features[~best_features.feature.isin(mal_pktPlus_features.feature)]])\n",
    "      # mal_pktPlus_features = mal_pktPlus_features.iloc[:len(best_features)]\n",
    "    df_ML = pd.DataFrame()\n",
    "    df_ML_mal = pd.DataFrame()\n",
    "\n",
    "    for pkt in best_features:\n",
    "        df_ML[best_features.feature] = features[best_features.feature]\n",
    "        # df_ML_mal[best_features.feature] = features_changed_mal2[mal_pktPlus_features.feature]\n",
    "      \n",
    "    for pkt in mal_pktPlus_features:\n",
    "        df_ML_mal[mal_pktPlus_features.feature] = features_changed_mal2[mal_pktPlus_features.feature]\n",
    "    # mal_pktPlus_features.feature = relevance_table_changed_mal.feature\n",
    "\n",
    "    # print(\"mal_pktPlus_features \" , mal_pktPlus_features.shape)\n",
    "    # print(\"mal_pktPlus_features features\" , mal_pktPlus_features.feature)\n",
    "\n",
    "    # df_ML.columns = df_ML_mal.columns    \n",
    "\n",
    "    final = ML_Process(df_ML,x, df_ML_mal)\n",
    "\n",
    "    return final"
   ]
  },
  {
   "cell_type": "code",
   "execution_count": 39,
   "metadata": {
    "id": "Rqqed0oNo_Io"
   },
   "outputs": [],
   "source": [
    "def ML_Process(df_ML,x, df_ML_mal):\n",
    "    df_results = x.copy() \n",
    "    print('let the ml starts')\n",
    "  \n",
    "    from sklearn import neighbors, metrics\n",
    "    from sklearn.preprocessing import LabelEncoder\n",
    "\n",
    "    #X = df_finalized[['Time', 'Length','Protocol']].values\n",
    "    X = df_ML.drop('class',axis=1).to_numpy()\n",
    "    X_mal = df_ML_mal.drop('class',axis=1).to_numpy()\n",
    "    #y = df_finalized[['Is_malicious']]\n",
    "    y = df_ML['class'].to_numpy()\n",
    "    y_mal = df_ML_mal['class'].to_numpy()\n",
    "\n",
    "    #print(X,y)\n",
    "    \n",
    "    # from sklearn.model_selection import train_test_split\n",
    "    Le = LabelEncoder()\n",
    "    for i in range(len(X[0])):\n",
    "        X[:, i] = Le.fit_transform(X[:, i])\n",
    "    for i in range(len(X_mal[0])):\n",
    "        X_mal[:, i] = Le.fit_transform(X_mal[:, i])\n",
    "    \n",
    "    # X_train, X_test, y_train, y_test = train_test_split(X, y, test_size=0.25, random_state=8675309)\n",
    "    X_train = X\n",
    "    y_train = y\n",
    "    X_test = X_mal\n",
    "    y_test = y_mal\n",
    "\n",
    "    from sklearn.svm import SVC\n",
    "    from sklearn import model_selection\n",
    "    from sklearn.utils import class_weight\n",
    "    from sklearn.metrics import classification_report\n",
    "    from sklearn.metrics import confusion_matrix\n",
    "    import numpy as np\n",
    "    import pandas as pd\n",
    "    y_train = y_train.ravel()\n",
    "    # dfs = []\n",
    "    models = [('LogReg', LogisticRegression()), \n",
    "              ('KNN', KNeighborsClassifier()),\n",
    "              ('SVM', SVC()), \n",
    "              ('GNB', GaussianNB())]\n",
    "    results = []\n",
    "    names = []\n",
    "    scoring = ['accuracy', 'precision_weighted', 'recall_weighted', 'f1_weighted', 'roc_auc']\n",
    "    target_names = ['malignant', 'benign']\n",
    "    # for name, model in models:\n",
    "    #     kfold = model_selection.KFold(n_splits=5, shuffle=True, random_state=None)\n",
    "    #     cv_results = model_selection.cross_validate(model, X_train, y_train, cv=kfold, \n",
    "    #                                                 scoring=scoring)\n",
    "    #     clf = model.fit(X_train, y_train)\n",
    "    #     y_pred = clf.predict(X_test)\n",
    "    #     print(name)\n",
    "    #     print(classification_report(y_test, y_pred, target_names=target_names))\n",
    "    #     results.append(cv_results)\n",
    "    #     names.append(name)\n",
    "    #     this_df = pd.DataFrame(cv_results)\n",
    "    #     this_df['model'] = name\n",
    "    #     dfs.append(this_df)\n",
    "    #     df_resulta = df_results.append(dfs)\n",
    "    #     final = pd.concat(dfs, ignore_index=True)\n",
    "    #     plt.show()\n",
    "    # plt.figure(figsize=(10,5))\n",
    "    # sns.barplot(x='model', y='test_accuracy', data=final, ci=None)\n",
    "    # plt.title('Mean Accuracy by Model')\n",
    "    # plt.xlabel('Model')\n",
    "    # plt.ylabel('Mean Test Accuracy')   \n",
    "    # return(final)\n",
    "    dfs = []\n",
    "    for name, model in models:\n",
    "        kfold = model_selection.KFold(n_splits=5, shuffle=True, random_state=None)\n",
    "        cv_results = model_selection.cross_validate(model, X_train, y_train, cv=kfold, \n",
    "                                                    scoring=scoring)\n",
    "        clf = model.fit(X_train, y_train)\n",
    "        y_pred = clf.predict(X_test)\n",
    "        print(name)\n",
    "        report = classification_report(y_test, y_pred, target_names=target_names, output_dict=True)\n",
    "        print(report)\n",
    "        accuracy = report['accuracy']  # Get accuracy from the classification report\n",
    "        this_df = pd.DataFrame({'model': [name], 'accuracy': [accuracy]})  # Store accuracy in a DataFrame\n",
    "        dfs.append(this_df)\n",
    "\n",
    "    final = pd.concat(dfs, ignore_index=True)\n",
    "\n",
    "    plt.figure(figsize=(10, 5))\n",
    "    sns.barplot(x='model', y='accuracy', data=final, ci=None)  # Use 'accuracy' instead of 'test_accuracy'\n",
    "    plt.title('Accuracy by Model')\n",
    "    plt.xlabel('Model')\n",
    "    plt.ylabel('Test Accuracy')\n",
    "    plt.ylim(0, 1)\n",
    "    plt.show()\n",
    "\n",
    "    return final"
   ]
  },
  {
   "cell_type": "code",
   "execution_count": 25,
   "metadata": {
    "id": "1cWaV2dqFQmK"
   },
   "outputs": [],
   "source": [
    "def plot_metrics(df):\n",
    "    melted_df = pd.melt(df, id_vars=['model', 'test_accuracy'], value_vars=['test_precision_weighted', 'test_recall_weighted', 'test_f1_weighted', 'test_roc_auc'], var_name='metric', value_name='score')\n",
    "\n",
    "    g = sns.FacetGrid(melted_df, col='metric', sharey=False, height=4, aspect=1.2)\n",
    "    g.map(sns.barplot, 'model', 'score', order=['LogReg', 'KNN', 'SVM', 'GNB'], palette='Blues_d', ci=None)\n",
    "    g.set_titles(\"{col_name}\")\n",
    "    g.set_axis_labels(\"\", \"Score\")\n",
    "    g.set_xticklabels(rotation=45)\n",
    "    g.set(ylim=(0, 1))\n",
    "\n",
    "    for ax in g.axes.flat:\n",
    "        ax.axhline(df.test_accuracy.mean(), ls='--', color='gray', lw=1)\n",
    "        return g\n",
    "    "
   ]
  },
  {
   "cell_type": "code",
   "execution_count": null,
   "metadata": {
    "id": "mgtwYSPNY-ou"
   },
   "outputs": [],
   "source": [
    " def insertion(df, interval):\n",
    "  df.reset_index(drop=True)\n",
    "  timeline = df['Time'].astype(int).unique()\n",
    "  insert_packet = pd.DataFrame([['Time', 'sip', 'dip', 'proto', 74, 'hw_src', 'hw_dst', 1]], columns = df_malicious.columns)\n",
    "\n",
    "  for i in range(len(timeline)):\n",
    "    if ((timeline[i] % interval) == 0):\n",
    "      insert_packet['Time'] = timeline[i]\n",
    "      df = pd.concat([df, insert_packet], ignore_index = True)"
   ]
  },
  {
   "cell_type": "code",
   "execution_count": null,
   "metadata": {
    "id": "CCcWIt2BY-io"
   },
   "outputs": [],
   "source": [
    "def fragment_man(df, split_val):\n",
    "  split = pd.DataFrame(columns = df.columns)\n",
    "  split_value = split_val\n",
    "\n",
    "  for i in range(len(df)):\n",
    "    if (df['Length'].iloc[i] > split_value):\n",
    "      df['Length'].iloc[i] = split_value\n",
    "      for j in range((df['Length'].iloc[i].astype(int) // split_value)):\n",
    "        df = df.append(df.iloc[i], ignore_index = True)"
   ]
  },
  {
   "cell_type": "markdown",
   "metadata": {
    "id": "y6Sevf-4D80_"
   },
   "source": [
    "##### PERTURBATION (Single Method)"
   ]
  },
  {
   "cell_type": "markdown",
   "metadata": {
    "id": "kqdQTuGzXuaB"
   },
   "source": [
    "DUMMMY PACKET\n"
   ]
  },
  {
   "cell_type": "code",
   "execution_count": 32,
   "metadata": {
    "colab": {
     "base_uri": "https://localhost:8080/",
     "height": 872
    },
    "id": "s6XWMBpGCQV4",
    "outputId": "090f26b4-6d60-4d53-f970-fb0e1317d76a"
   },
   "outputs": [
    {
     "metadata": {
      "tags": null
     },
     "name": "stderr",
     "output_type": "stream",
     "text": [
      "WARNING:tsfresh.feature_extraction.settings:Dependency not available for matrix_profile, this feature will be disabled!\n"
     ]
    },
    {
     "metadata": {
      "tags": null
     },
     "name": "stdout",
     "output_type": "stream",
     "text": [
      "0 NAN in malicious\n",
      "0 NAN in benign\n"
     ]
    },
    {
     "metadata": {
      "tags": null
     },
     "name": "stderr",
     "output_type": "stream",
     "text": [
      "Feature Extraction: 100%|██████████| 6055/6055 [03:47<00:00, 26.62it/s]\n",
      "WARNING:tsfresh.feature_extraction.settings:Dependency not available for matrix_profile, this feature will be disabled!\n",
      "Feature Extraction: 100%|██████████| 6260/6260 [03:52<00:00, 26.88it/s]\n",
      "WARNING:tsfresh.feature_extraction.settings:Dependency not available for matrix_profile, this feature will be disabled!\n",
      "Feature Extraction: 100%|██████████| 6186/6186 [03:51<00:00, 26.77it/s]\n"
     ]
    },
    {
     "metadata": {
      "tags": null
     },
     "name": "stdout",
     "output_type": "stream",
     "text": [
      "relevance_table  (255, 4)\n",
      "relevance_table_changed_mal  (251, 4)\n",
      "let the ml starts\n",
      "LogReg\n",
      "{'malignant': {'precision': 0.30392684238838086, 'recall': 0.1805111821086262, 'f1-score': 0.22649829625175388, 'support': 6260}, 'benign': {'precision': 0.4122364802933089, 'recall': 0.5816359521500162, 'f1-score': 0.4824996647445354, 'support': 6186}, 'accuracy': 0.37988108629278483, 'macro avg': {'precision': 0.35808166134084485, 'recall': 0.38107356712932117, 'f1-score': 0.35449898049814466, 'support': 12446}, 'weighted avg': {'precision': 0.3577596738265847, 'recall': 0.37988108629278483, 'f1-score': 0.3537379287036538, 'support': 12446}}\n",
      "KNN\n",
      "{'malignant': {'precision': 0.7395075545607163, 'recall': 0.844408945686901, 'f1-score': 0.7884844868735084, 'support': 6260}, 'benign': {'precision': 0.816157040392601, 'recall': 0.6989977368250889, 'f1-score': 0.7530477185649599, 'support': 6186}, 'accuracy': 0.7721356259039048, 'macro avg': {'precision': 0.7778322974766586, 'recall': 0.7717033412559949, 'f1-score': 0.7707661027192341, 'support': 12446}, 'weighted avg': {'precision': 0.7776044306137484, 'recall': 0.7721356259039048, 'f1-score': 0.7708714506565165, 'support': 12446}}\n",
      "SVM\n",
      "{'malignant': {'precision': 0.5029728426803792, 'recall': 1.0, 'f1-score': 0.6693039666417192, 'support': 6260}, 'benign': {'precision': 0.0, 'recall': 0.0, 'f1-score': 0.0, 'support': 6186}, 'accuracy': 0.5029728426803792, 'macro avg': {'precision': 0.2514864213401896, 'recall': 0.5, 'f1-score': 0.3346519833208596, 'support': 12446}, 'weighted avg': {'precision': 0.2529816804739815, 'recall': 0.5029728426803792, 'f1-score': 0.33664171871903925, 'support': 12446}}\n",
      "GNB\n",
      "{'malignant': {'precision': 0.5031345442854847, 'recall': 1.0, 'f1-score': 0.6694471179552989, 'support': 6260}, 'benign': {'precision': 1.0, 'recall': 0.0006466214031684449, 'f1-score': 0.0012924071082390954, 'support': 6186}, 'accuracy': 0.5032942310782581, 'macro avg': {'precision': 0.7515672721427423, 'recall': 0.5003233107015842, 'f1-score': 0.335369762531769, 'support': 12446}, 'weighted avg': {'precision': 0.750090169309588, 'recall': 0.5032942310782581, 'f1-score': 0.3373560813732716, 'support': 12446}}\n"
     ]
    },
    {
     "data": {
      "image/png": "[encoded data removed]",
      "text/plain": [
       "<Figure size 1000x500 with 1 Axes>"
      ]
     },
     "metadata": {},
     "output_type": "display_data"
    },
    {
     "metadata": {
      "tags": null
     },
     "name": "stdout",
     "output_type": "stream",
     "text": [
      "794.1731237879999\n"
     ]
    }
   ],
   "source": [
    "### DUMMY PACKET\n",
    "df_malicious = pd.read_csv('/content/drive/MyDrive/attacked_data/conventional_malicious_traffic.csv', index_col = [0])\n",
    "df_benign = pd.read_csv('/content/drive/MyDrive/attacked_data/benign_traffic.csv', index_col = [0])\n",
    "df_mal_web_mine = pd.read_csv('/content/drive/MyDrive/attacked_data/single_method/dummy_packet.csv', index_col = [0])\n",
    "\n",
    "print(\"{} NAN in malicious\".format(len(df_malicious[df_malicious.isna().any(axis=1)])))\n",
    "print(\"{} NAN in benign\".format(len(df_benign[df_benign.isna().any(axis=1)])))\n",
    "\n",
    "df_malicious = df_malicious.dropna()\n",
    "df_benign = df_benign.dropna()\n",
    "\n",
    "start = timer()\n",
    "results_Raspberry_s1 = run_process(df_malicious,df_benign,df_results, df_mal_web_mine)\n",
    "end = timer()\n",
    "print(end - start)"
   ]
  },
  {
   "cell_type": "code",
   "execution_count": 37,
   "metadata": {
    "colab": {
     "base_uri": "https://localhost:8080/",
     "height": 487
    },
    "id": "kLYPDV-aFwbH",
    "outputId": "0606bb6e-1f8f-4e3b-d878-386b2ccf6b00"
   },
   "outputs": [
    {
     "data": {
      "image/png": "[encoded data removed]",
      "text/plain": [
       "<Figure size 1000x500 with 1 Axes>"
      ]
     },
     "metadata": {},
     "output_type": "display_data"
    }
   ],
   "source": [
    "import pandas as pd\n",
    "import matplotlib.pyplot as plt\n",
    "import seaborn as sns\n",
    "\n",
    "# Store the accuracy values in a DataFrame\n",
    "data = {'model': ['LogReg', 'KNN', 'SVM', 'GNB'],\n",
    "        'accuracy': [0.37988108629278483, 0.7721356259039048, 0.5029728426803792, 0.5032942310782581]}\n",
    "\n",
    "accuracy_df = pd.DataFrame(data)\n",
    "\n",
    "# Create a bar plot using seaborn\n",
    "plt.figure(figsize=(10, 5))\n",
    "sns.barplot(x='model', y='accuracy', data=accuracy_df, ci=None)\n",
    "plt.title('Accuracy by Model')\n",
    "plt.xlabel('Model')\n",
    "plt.ylabel('Test Accuracy')\n",
    "plt.ylim(0, 1)  # Set the y-axis limit to 1\n",
    "plt.show()\n"
   ]
  },
  {
   "cell_type": "code",
   "execution_count": 38,
   "metadata": {
    "colab": {
     "base_uri": "https://localhost:8080/",
     "height": 564
    },
    "id": "LshjD9m8VxKZ",
    "outputId": "7547c26f-654d-457c-9f09-f41bb7adb6b2"
   },
   "outputs": [
    {
     "data": {
      "image/png": "[encoded data removed]",
      "text/plain": [
       "<Figure size 1200x600 with 1 Axes>"
      ]
     },
     "metadata": {},
     "output_type": "display_data"
    }
   ],
   "source": [
    "import pandas as pd\n",
    "import matplotlib.pyplot as plt\n",
    "import seaborn as sns\n",
    "\n",
    "# Store the metrics values in a DataFrame\n",
    "data = {'model': ['LogReg', 'LogReg', 'LogReg', 'LogReg', 'KNN', 'KNN', 'KNN', 'KNN', 'SVM', 'SVM', 'SVM', 'SVM', 'GNB', 'GNB', 'GNB', 'GNB'],\n",
    "        'class': ['malignant', 'malignant', 'benign', 'benign', 'malignant', 'malignant', 'benign', 'benign', 'malignant', 'malignant', 'benign', 'benign', 'malignant', 'malignant', 'benign', 'benign'],\n",
    "        'metric': ['precision', 'recall', 'precision', 'recall', 'precision', 'recall', 'precision', 'recall', 'precision', 'recall', 'precision', 'recall', 'precision', 'recall', 'precision', 'recall'],\n",
    "        'value': [0.30392684238838086, 0.1805111821086262, 0.4122364802933089, 0.5816359521500162,\n",
    "                  0.7395075545607163, 0.844408945686901, 0.816157040392601, 0.6989977368250889,\n",
    "                  0.5029728426803792, 1.0, 0.0, 0.0,\n",
    "                  0.5031345442854847, 1.0, 1.0, 0.0006466214031684449]}\n",
    "\n",
    "metrics_df = pd.DataFrame(data)\n",
    "\n",
    "# Create a grouped bar plot using seaborn\n",
    "plt.figure(figsize=(12, 6))\n",
    "sns.barplot(x='model', y='value', hue='metric', data=metrics_df, ci=None)\n",
    "plt.title('Metrics Comparison by Model and Class')\n",
    "plt.xlabel('Model')\n",
    "plt.ylabel('Value')\n",
    "plt.ylim(0, 1)\n",
    "plt.legend(title='Metric', loc='upper left')\n",
    "plt.show()\n"
   ]
  },
  {
   "cell_type": "markdown",
   "metadata": {
    "id": "yCzTBXphX1eY"
   },
   "source": [
    "Padding"
   ]
  },
  {
   "cell_type": "code",
   "execution_count": 36,
   "metadata": {
    "colab": {
     "base_uri": "https://localhost:8080/",
     "height": 872
    },
    "id": "J0nUo-gADP4q",
    "outputId": "8da5156e-a112-411e-8e44-8828ae96ba95"
   },
   "outputs": [
    {
     "name": "stderr",
     "output_type": "stream",
     "text": [
      "WARNING:tsfresh.feature_extraction.settings:Dependency not available for matrix_profile, this feature will be disabled!\n"
     ]
    },
    {
     "name": "stdout",
     "output_type": "stream",
     "text": [
      "0 NAN in malicious\n",
      "0 NAN in benign\n"
     ]
    },
    {
     "name": "stderr",
     "output_type": "stream",
     "text": [
      "Feature Extraction: 100%|██████████| 6055/6055 [03:51<00:00, 26.15it/s]\n",
      "WARNING:tsfresh.feature_extraction.settings:Dependency not available for matrix_profile, this feature will be disabled!\n",
      "Feature Extraction: 100%|██████████| 6260/6260 [04:22<00:00, 23.86it/s]\n",
      "WARNING:tsfresh.feature_extraction.settings:Dependency not available for matrix_profile, this feature will be disabled!\n",
      "Feature Extraction: 100%|██████████| 6055/6055 [03:52<00:00, 26.06it/s]\n"
     ]
    },
    {
     "name": "stdout",
     "output_type": "stream",
     "text": [
      "relevance_table  (255, 4)\n",
      "relevance_table_changed_mal  (258, 4)\n",
      "let the ml starts\n",
      "LogReg\n",
      "{'malignant': {'precision': 0.6409164172231177, 'recall': 0.889297124600639, 'f1-score': 0.7449484811989829, 'support': 6260}, 'benign': {'precision': 0.8090383025626895, 'recall': 0.48488852188274156, 'f1-score': 0.6063610078479968, 'support': 6055}, 'accuracy': 0.6904587900933821, 'macro avg': {'precision': 0.7249773598929036, 'recall': 0.6870928232416903, 'f1-score': 0.67565474452349, 'support': 12315}, 'weighted avg': {'precision': 0.7235780506564192, 'recall': 0.6904587900933821, 'f1-score': 0.6768082334409463, 'support': 12315}}\n",
      "KNN\n",
      "{'malignant': {'precision': 0.6987319632706602, 'recall': 0.765814696485623, 'f1-score': 0.7307369865101744, 'support': 6260}, 'benign': {'precision': 0.7312064539787312, 'recall': 0.6586292320396366, 'f1-score': 0.6930228516812929, 'support': 6055}, 'accuracy': 0.7131140885099472, 'macro avg': {'precision': 0.7149692086246957, 'recall': 0.7122219642626297, 'f1-score': 0.7118799190957337, 'support': 12315}, 'weighted avg': {'precision': 0.7146989174921276, 'recall': 0.7131140885099472, 'f1-score': 0.7121938207457508, 'support': 12315}}\n",
      "SVM\n",
      "{'malignant': {'precision': 0.5316937997921718, 'recall': 0.9808306709265175, 'f1-score': 0.6895777178796046, 'support': 6260}, 'benign': {'precision': 0.8435462842242504, 'recall': 0.10685383980181667, 'f1-score': 0.18968044561712108, 'support': 6055}, 'accuracy': 0.5511165245635404, 'macro avg': {'precision': 0.687620042008211, 'recall': 0.5438422553641671, 'f1-score': 0.43962908174836285, 'support': 12315}, 'weighted avg': {'precision': 0.6850244366769656, 'recall': 0.5511165245635404, 'f1-score': 0.4437898182816073, 'support': 12315}}\n",
      "GNB\n",
      "{'malignant': {'precision': 0.44323377760482535, 'recall': 0.7277955271565495, 'f1-score': 0.5509402019469133, 'support': 6260}, 'benign': {'precision': 0.16306483300589392, 'recall': 0.05483071841453344, 'f1-score': 0.08206649363490298, 'support': 6055}, 'accuracy': 0.3969143321153065, 'macro avg': {'precision': 0.30314930530535966, 'recall': 0.3913131227855415, 'f1-score': 0.31650334779090816, 'support': 12315}, 'weighted avg': {'precision': 0.30548120273299995, 'recall': 0.3969143321153065, 'f1-score': 0.3204058695206671, 'support': 12315}}\n"
     ]
    },
    {
     "data": {
      "image/png": "[encoded data removed]",
      "text/plain": [
       "<Figure size 1000x500 with 1 Axes>"
      ]
     },
     "metadata": {},
     "output_type": "display_data"
    },
    {
     "name": "stdout",
     "output_type": "stream",
     "text": [
      "837.490857234\n"
     ]
    }
   ],
   "source": [
    "### PADDING\n",
    "df_malicious = pd.read_csv('/content/drive/MyDrive/attacked_data/conventional_malicious_traffic.csv', index_col = [0])\n",
    "df_benign = pd.read_csv('/content/drive/MyDrive/attacked_data/benign_traffic.csv', index_col = [0])\n",
    "df_mal_web_mine = pd.read_csv('/content/drive/MyDrive/attacked_data/single_method/padding.csv', index_col = [0])\n",
    "print(\"{} NAN in malicious\".format(len(df_malicious[df_malicious.isna().any(axis=1)])))\n",
    "print(\"{} NAN in benign\".format(len(df_benign[df_benign.isna().any(axis=1)])))\n",
    "\n",
    "df_malicious = df_malicious.dropna()\n",
    "df_benign = df_benign.dropna()\n",
    "\n",
    "start = timer()\n",
    "results_Raspberry_s1 = run_process(df_malicious,df_benign,df_results, df_mal_web_mine)\n",
    "end = timer()\n",
    "print(end - start)"
   ]
  },
  {
   "cell_type": "code",
   "execution_count": 40,
   "metadata": {
    "colab": {
     "base_uri": "https://localhost:8080/",
     "height": 487
    },
    "id": "DEY5xNX1aJ2z",
    "outputId": "9d3155f1-7202-407e-8409-a3ca152ad5a4"
   },
   "outputs": [
    {
     "data": {
      "image/png": "[encoded data removed]",
      "text/plain": [
       "<Figure size 1000x500 with 1 Axes>"
      ]
     },
     "metadata": {},
     "output_type": "display_data"
    }
   ],
   "source": [
    "import pandas as pd\n",
    "import matplotlib.pyplot as plt\n",
    "import seaborn as sns\n",
    "\n",
    "# Store the accuracy values in a DataFrame\n",
    "data = {'model': ['LogReg', 'KNN', 'SVM', 'GNB'],\n",
    "        'accuracy': [0.6904587900933821, 0.7131140885099472, 0.5511165245635404, 0.3969143321153065]}\n",
    "\n",
    "accuracy_df = pd.DataFrame(data)\n",
    "\n",
    "# Create a bar plot using seaborn\n",
    "plt.figure(figsize=(10, 5))\n",
    "sns.barplot(x='model', y='accuracy', data=accuracy_df, ci=None)\n",
    "plt.title('Accuracy by Model')\n",
    "plt.xlabel('Model')\n",
    "plt.ylabel('Test Accuracy')\n",
    "plt.ylim(0, 1)  # Set the y-axis limit to 1\n",
    "plt.show()\n"
   ]
  },
  {
   "cell_type": "markdown",
   "metadata": {
    "id": "2CX424tbecau"
   },
   "source": [
    "-------------------Splitting-----------------------\n",
    "# "
   ]
  },
  {
   "cell_type": "code",
   "execution_count": 45,
   "metadata": {
    "colab": {
     "base_uri": "https://localhost:8080/",
     "height": 872
    },
    "id": "zQDI1cQSDX2K",
    "outputId": "08f2f48c-972f-493f-db35-a56af29c3725"
   },
   "outputs": [
    {
     "name": "stderr",
     "output_type": "stream",
     "text": [
      "WARNING:tsfresh.feature_extraction.settings:Dependency not available for matrix_profile, this feature will be disabled!\n"
     ]
    },
    {
     "name": "stdout",
     "output_type": "stream",
     "text": [
      "0 NAN in malicious\n",
      "0 NAN in benign\n"
     ]
    },
    {
     "name": "stderr",
     "output_type": "stream",
     "text": [
      "Feature Extraction: 100%|██████████| 6055/6055 [04:00<00:00, 25.16it/s]\n",
      "WARNING:tsfresh.feature_extraction.settings:Dependency not available for matrix_profile, this feature will be disabled!\n",
      "Feature Extraction: 100%|██████████| 6260/6260 [03:58<00:00, 26.29it/s]\n",
      "WARNING:tsfresh.feature_extraction.settings:Dependency not available for matrix_profile, this feature will be disabled!\n",
      "Feature Extraction: 100%|██████████| 6305/6305 [04:25<00:00, 23.72it/s]\n"
     ]
    },
    {
     "name": "stdout",
     "output_type": "stream",
     "text": [
      "relevance_table  (255, 4)\n",
      "relevance_table_changed_mal  (258, 4)\n",
      "let the ml starts\n",
      "LogReg\n",
      "{'malignant': {'precision': 0.5637062019861345, 'recall': 0.9611821086261981, 'f1-score': 0.7106413133341207, 'support': 6260}, 'benign': {'precision': 0.8714965626652564, 'recall': 0.26137985725614593, 'f1-score': 0.4021473889702294, 'support': 6305}, 'accuracy': 0.6100278551532033, 'macro avg': {'precision': 0.7176013823256955, 'recall': 0.6112809829411721, 'f1-score': 0.5563943511521751, 'support': 12565}, 'weighted avg': {'precision': 0.7181525389604173, 'recall': 0.6100278551532033, 'f1-score': 0.5558419346541099, 'support': 12565}}\n",
      "KNN\n",
      "{'malignant': {'precision': 0.5941673062164237, 'recall': 0.618370607028754, 'f1-score': 0.606027397260274, 'support': 6260}, 'benign': {'precision': 0.6051239669421488, 'recall': 0.5806502775574941, 'f1-score': 0.5926345609065156, 'support': 6305}, 'accuracy': 0.5994428969359331, 'macro avg': {'precision': 0.5996456365792862, 'recall': 0.5995104422931241, 'f1-score': 0.5993309790833947, 'support': 12565}, 'weighted avg': {'precision': 0.599665256544772, 'recall': 0.5994428969359331, 'f1-score': 0.5993069966864223, 'support': 12565}}\n",
      "SVM\n",
      "{'malignant': {'precision': 0.4982093115797851, 'recall': 1.0, 'f1-score': 0.6650730411686586, 'support': 6260}, 'benign': {'precision': 0.0, 'recall': 0.0, 'f1-score': 0.0, 'support': 6305}, 'accuracy': 0.4982093115797851, 'macro avg': {'precision': 0.24910465578989255, 'recall': 0.5, 'f1-score': 0.3325365205843293, 'support': 12565}, 'weighted avg': {'precision': 0.24821251814480338, 'recall': 0.4982093115797851, 'f1-score': 0.33134558199091146, 'support': 12565}}\n",
      "GNB\n",
      "{'malignant': {'precision': 0.4749321077919365, 'recall': 0.7263578274760384, 'f1-score': 0.5743337122647467, 'support': 6260}, 'benign': {'precision': 0.4272818455366098, 'recall': 0.20269627279936558, 'f1-score': 0.2749569707401033, 'support': 6305}, 'accuracy': 0.46358933545563075, 'macro avg': {'precision': 0.45110697666427313, 'recall': 0.464527050137702, 'f1-score': 0.424645341502425, 'support': 12565}, 'weighted avg': {'precision': 0.45102164989143234, 'recall': 0.46358933545563075, 'f1-score': 0.42410925103809516, 'support': 12565}}\n"
     ]
    },
    {
     "data": {
      "image/png": "[encoded data removed]",
      "text/plain": [
       "<Figure size 1000x500 with 1 Axes>"
      ]
     },
     "metadata": {},
     "output_type": "display_data"
    },
    {
     "name": "stdout",
     "output_type": "stream",
     "text": [
      "858.3521570029998\n"
     ]
    }
   ],
   "source": [
    "### SPLITTING\n",
    "df_malicious = pd.read_csv('/content/drive/MyDrive/attacked_data/conventional_malicious_traffic.csv', index_col = [0])\n",
    "df_benign = pd.read_csv('/content/drive/MyDrive/attacked_data/benign_traffic.csv', index_col = [0])\n",
    "df_mal_web_mine = pd.read_csv('/content/drive/MyDrive/attacked_data/single_method/splitting.csv', index_col = [0])\n",
    "\n",
    "print(\"{} NAN in malicious\".format(len(df_malicious[df_malicious.isna().any(axis=1)])))\n",
    "print(\"{} NAN in benign\".format(len(df_benign[df_benign.isna().any(axis=1)])))\n",
    "\n",
    "df_malicious = df_malicious.dropna()\n",
    "df_benign = df_benign.dropna()\n",
    "\n",
    "start = timer()\n",
    "results_Raspberry_s1 = run_process(df_malicious,df_benign,df_results, df_mal_web_mine)\n",
    "end = timer()\n",
    "print(end - start)"
   ]
  },
  {
   "cell_type": "code",
   "execution_count": 50,
   "metadata": {
    "colab": {
     "base_uri": "https://localhost:8080/",
     "height": 872
    },
    "id": "30RJ7xapDX-v",
    "outputId": "89fff6d5-9f59-4ade-9a62-8618aa6c031b"
   },
   "outputs": [
    {
     "name": "stderr",
     "output_type": "stream",
     "text": [
      "WARNING:tsfresh.feature_extraction.settings:Dependency not available for matrix_profile, this feature will be disabled!\n"
     ]
    },
    {
     "name": "stdout",
     "output_type": "stream",
     "text": [
      "0 NAN in malicious\n",
      "0 NAN in benign\n"
     ]
    },
    {
     "name": "stderr",
     "output_type": "stream",
     "text": [
      "Feature Extraction: 100%|██████████| 6055/6055 [03:57<00:00, 25.49it/s]\n",
      "WARNING:tsfresh.feature_extraction.settings:Dependency not available for matrix_profile, this feature will be disabled!\n",
      "Feature Extraction: 100%|██████████| 6260/6260 [03:52<00:00, 26.91it/s]\n",
      "WARNING:tsfresh.feature_extraction.settings:Dependency not available for matrix_profile, this feature will be disabled!\n",
      "Feature Extraction: 100%|██████████| 6858/6858 [04:25<00:00, 25.87it/s]\n"
     ]
    },
    {
     "name": "stdout",
     "output_type": "stream",
     "text": [
      "relevance_table  (255, 4)\n",
      "relevance_table_changed_mal  (260, 4)\n",
      "let the ml starts\n",
      "LogReg\n",
      "{'malignant': {'precision': 0.34614247709133905, 'recall': 0.18706070287539936, 'f1-score': 0.24287047599294825, 'support': 6260}, 'benign': {'precision': 0.47724704673857216, 'recall': 0.6774569845435987, 'f1-score': 0.559995178689809, 'support': 6858}, 'accuracy': 0.4434364994663821, 'macro avg': {'precision': 0.4116947619149556, 'recall': 0.432258843709499, 'f1-score': 0.40143282734137864, 'support': 13118}, 'weighted avg': {'precision': 0.4146830426227253, 'recall': 0.4434364994663821, 'f1-score': 0.4086610851631778, 'support': 13118}}\n",
      "KNN\n",
      "{'malignant': {'precision': 0.5630084201512773, 'recall': 0.6301916932907349, 'f1-score': 0.5947086756614155, 'support': 6260}, 'benign': {'precision': 0.621174930453281, 'recall': 0.5535141440653252, 'f1-score': 0.5853959441745701, 'support': 6858}, 'accuracy': 0.5901051989632566, 'macro avg': {'precision': 0.5920916753022791, 'recall': 0.59185291867803, 'f1-score': 0.5900523099179928, 'support': 13118}, 'weighted avg': {'precision': 0.5934174708946178, 'recall': 0.5901051989632566, 'f1-score': 0.589840043816867, 'support': 13118}}\n",
      "SVM\n",
      "{'malignant': {'precision': 0.47720689129440463, 'recall': 1.0, 'f1-score': 0.6460935081019713, 'support': 6260}, 'benign': {'precision': 0.0, 'recall': 0.0, 'f1-score': 0.0, 'support': 6858}, 'accuracy': 0.47720689129440463, 'macro avg': {'precision': 0.23860344564720232, 'recall': 0.5, 'f1-score': 0.32304675405098565, 'support': 13118}, 'weighted avg': {'precision': 0.22772641709886973, 'recall': 0.47720689129440463, 'f1-score': 0.30832027448683796, 'support': 13118}}\n",
      "GNB\n",
      "{'malignant': {'precision': 0.47720689129440463, 'recall': 1.0, 'f1-score': 0.6460935081019713, 'support': 6260}, 'benign': {'precision': 0.0, 'recall': 0.0, 'f1-score': 0.0, 'support': 6858}, 'accuracy': 0.47720689129440463, 'macro avg': {'precision': 0.23860344564720232, 'recall': 0.5, 'f1-score': 0.32304675405098565, 'support': 13118}, 'weighted avg': {'precision': 0.22772641709886973, 'recall': 0.47720689129440463, 'f1-score': 0.30832027448683796, 'support': 13118}}\n"
     ]
    },
    {
     "data": {
      "image/png": "[encoded data removed]",
      "text/plain": [
       "<Figure size 1000x500 with 1 Axes>"
      ]
     },
     "metadata": {},
     "output_type": "display_data"
    },
    {
     "name": "stdout",
     "output_type": "stream",
     "text": [
      "849.6663090870006\n"
     ]
    }
   ],
   "source": [
    "### OBFS4 PROXY\n",
    "df_malicious = pd.read_csv('/content/drive/MyDrive/attacked_data/conventional_malicious_traffic.csv', index_col = [0])\n",
    "df_benign = pd.read_csv('/content/drive/MyDrive/attacked_data/benign_traffic.csv', index_col = [0])\n",
    "df_mal_web_mine = pd.read_csv('/content/drive/MyDrive/attacked_data/single_method/obfs4_mining.csv', index_col = [0])\n",
    "\n",
    "print(\"{} NAN in malicious\".format(len(df_malicious[df_malicious.isna().any(axis=1)])))\n",
    "print(\"{} NAN in benign\".format(len(df_benign[df_benign.isna().any(axis=1)])))\n",
    "\n",
    "df_malicious = df_malicious.dropna()\n",
    "df_benign = df_benign.dropna()\n",
    "\n",
    "start = timer()\n",
    "results_Raspberry_s1 = run_process(df_malicious,df_benign,df_results, df_mal_web_mine)\n",
    "end = timer()\n",
    "print(end - start)"
   ]
  },
  {
   "cell_type": "code",
   "execution_count": null,
   "metadata": {
    "id": "jVR4z15Kb6t-"
   },
   "outputs": [],
   "source": []
  }
 ],
 "metadata": {
  "accelerator": "GPU",
  "colab": {
   "machine_shape": "hm",
   "name": "Defeating IoT Cryptojacking Detection System",
   "provenance": []
  },
  "gpuClass": "standard",
  "kernelspec": {
   "display_name": "Python 3 (ipykernel)",
   "language": "python",
   "name": "python3"
  },
  "language_info": {
   "codemirror_mode": {
    "name": "ipython",
    "version": 3
   },
   "file_extension": ".py",
   "mimetype": "text/x-python",
   "name": "python",
   "nbconvert_exporter": "python",
   "pygments_lexer": "ipython3",
   "version": "3.10.10"
  }
 },
 "nbformat": 4,
 "nbformat_minor": 1
}
